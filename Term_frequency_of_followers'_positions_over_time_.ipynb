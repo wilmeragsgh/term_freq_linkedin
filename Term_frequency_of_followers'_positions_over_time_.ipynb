{
  "nbformat": 4,
  "nbformat_minor": 0,
  "metadata": {
    "colab": {
      "name": "Term frequency of followers' positions over time .ipynb",
      "provenance": [],
      "authorship_tag": "ABX9TyN/+045QOhXBjAlKsv1chEu",
      "include_colab_link": true
    },
    "kernelspec": {
      "name": "python3",
      "display_name": "Python 3"
    }
  },
  "cells": [
    {
      "cell_type": "markdown",
      "metadata": {
        "id": "view-in-github",
        "colab_type": "text"
      },
      "source": [
        "<a href=\"https://colab.research.google.com/github/wilmeragsgh/term_freq_linkedin/blob/master/Term_frequency_of_followers'_positions_over_time_.ipynb\" target=\"_parent\"><img src=\"https://colab.research.google.com/assets/colab-badge.svg\" alt=\"Open In Colab\"/></a>"
      ]
    },
    {
      "cell_type": "code",
      "metadata": {
        "id": "Y4jJQ7jysu74",
        "colab_type": "code",
        "outputId": "68f5d1d7-1d67-4952-9dc7-ded8a91377b4",
        "colab": {
          "base_uri": "https://localhost:8080/",
          "height": 55
        },
        "cellView": "form"
      },
      "source": [
        "#@title **Text preprocessing aux functions**\n",
        "import re\n",
        "from gensim.utils import deaccent\n",
        "from nltk.corpus import stopwords\n",
        "import nltk\n",
        "import string\n",
        "nltk.download('stopwords')\n",
        "\n",
        "class Preprocessor(object):\n",
        "    def __init__(self,custom_stopwords=None):\n",
        "        self.stopwords = stopwords.words('english') + stopwords.words('spanish')\n",
        "        if custom_stopwords:\n",
        "            self.stopwords += custom_stopwords\n",
        "        self.punctuation = string.punctuation +'¿¡|'\n",
        "        self.pipeline = [\n",
        "            self.__remove_quotes,\n",
        "            self.__remove_accent,\n",
        "            self.__tokenize,\n",
        "            self.__remove_punctuation,\n",
        "            self.__remove_stopwords\n",
        "        ]\n",
        "        \n",
        "    def __remove_quotes(self, text):\n",
        "        # Remove distracting single quotes\n",
        "        return [re.sub(\"\\'\", \"\", tweet) for tweet in text]\n",
        "    \n",
        "    def __remove_accent(self, text):\n",
        "        # Remove accents\n",
        "        return [deaccent(tweet).lower() for tweet in text]\n",
        "    \n",
        "    def __remove_punctuation(self, text):\n",
        "        return [[word.translate(str.maketrans('', '', self.punctuation)) for word in tweet] for tweet in text]\n",
        "    \n",
        "    def __tokenize(self, text):\n",
        "        # Tokenize\n",
        "        return [tweet.split(' ') for tweet in text]\n",
        "\n",
        "    def __remove_stopwords(self, text):\n",
        "        # Removing stopwords\n",
        "        return [[word for word in tweet if word not in self.stopwords] for tweet in text]\n",
        "    \n",
        "    def transform(self, text):\n",
        "        for op in self.pipeline:\n",
        "            text = op(text)\n",
        "        return text\n",
        "\n",
        "prep = Preprocessor()"
      ],
      "execution_count": 28,
      "outputs": [
        {
          "output_type": "stream",
          "text": [
            "[nltk_data] Downloading package stopwords to /root/nltk_data...\n",
            "[nltk_data]   Package stopwords is already up-to-date!\n"
          ],
          "name": "stdout"
        }
      ]
    },
    {
      "cell_type": "code",
      "metadata": {
        "id": "eQLot7nTsy0e",
        "colab_type": "code",
        "outputId": "8965e3af-8dc7-4fdc-e865-b3a8b0fe38ce",
        "colab": {
          "resources": {
            "http://localhost:8080/nbextensions/google.colab/files.js": {
              "data": "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",
              "ok": true,
              "headers": [
                [
                  "content-type",
                  "application/javascript"
                ]
              ],
              "status": 200,
              "status_text": ""
            }
          },
          "base_uri": "https://localhost:8080/",
          "height": 282
        },
        "cellView": "form"
      },
      "source": [
        "#@title **Upload file**\n",
        "from google.colab import files\n",
        "uploaded = files.upload()\n",
        "for fn in uploaded.keys():\n",
        "  print('You uploaded file \"{name}\" with length {length} bytes'.format(\n",
        "      name=fn, length=len(uploaded[fn])))\n",
        "\n",
        "import pandas as pd\n",
        "connections = pd.read_csv(fn)\n",
        "connections.head()"
      ],
      "execution_count": 30,
      "outputs": [
        {
          "output_type": "display_data",
          "data": {
            "text/html": [
              "\n",
              "     <input type=\"file\" id=\"files-405b2914-71e0-4a2b-b5e2-094180625e94\" name=\"files[]\" multiple disabled />\n",
              "     <output id=\"result-405b2914-71e0-4a2b-b5e2-094180625e94\">\n",
              "      Upload widget is only available when the cell has been executed in the\n",
              "      current browser session. Please rerun this cell to enable.\n",
              "      </output>\n",
              "      <script src=\"/nbextensions/google.colab/files.js\"></script> "
            ],
            "text/plain": [
              "<IPython.core.display.HTML object>"
            ]
          },
          "metadata": {
            "tags": []
          }
        },
        {
          "output_type": "stream",
          "text": [
            "Saving Connections.csv to Connections (2).csv\n",
            "You uploaded file \"Connections.csv\" with length 100377 bytes\n"
          ],
          "name": "stdout"
        },
        {
          "output_type": "execute_result",
          "data": {
            "text/html": [
              "<div>\n",
              "<style scoped>\n",
              "    .dataframe tbody tr th:only-of-type {\n",
              "        vertical-align: middle;\n",
              "    }\n",
              "\n",
              "    .dataframe tbody tr th {\n",
              "        vertical-align: top;\n",
              "    }\n",
              "\n",
              "    .dataframe thead th {\n",
              "        text-align: right;\n",
              "    }\n",
              "</style>\n",
              "<table border=\"1\" class=\"dataframe\">\n",
              "  <thead>\n",
              "    <tr style=\"text-align: right;\">\n",
              "      <th></th>\n",
              "      <th>First Name</th>\n",
              "      <th>Last Name</th>\n",
              "      <th>Email Address</th>\n",
              "      <th>Company</th>\n",
              "      <th>Position</th>\n",
              "      <th>Connected On</th>\n",
              "    </tr>\n",
              "  </thead>\n",
              "  <tbody>\n",
              "    <tr>\n",
              "      <th>0</th>\n",
              "      <td>Baudimar</td>\n",
              "      <td>Calvete</td>\n",
              "      <td>NaN</td>\n",
              "      <td>Independiente</td>\n",
              "      <td>Adminitracion de recursos humanos</td>\n",
              "      <td>14 Jan 2020</td>\n",
              "    </tr>\n",
              "    <tr>\n",
              "      <th>1</th>\n",
              "      <td>Monica</td>\n",
              "      <td>Perez</td>\n",
              "      <td>NaN</td>\n",
              "      <td>Fetcher</td>\n",
              "      <td>Specialist II</td>\n",
              "      <td>13 Jan 2020</td>\n",
              "    </tr>\n",
              "    <tr>\n",
              "      <th>2</th>\n",
              "      <td>Sam</td>\n",
              "      <td>Mbende</td>\n",
              "      <td>NaN</td>\n",
              "      <td>RealEstate</td>\n",
              "      <td>invistment</td>\n",
              "      <td>12 Jan 2020</td>\n",
              "    </tr>\n",
              "    <tr>\n",
              "      <th>3</th>\n",
              "      <td>Jehosafat</td>\n",
              "      <td>Becerra</td>\n",
              "      <td>NaN</td>\n",
              "      <td>freelancer, author, journalist</td>\n",
              "      <td>Escritor autónomo</td>\n",
              "      <td>09 Jan 2020</td>\n",
              "    </tr>\n",
              "    <tr>\n",
              "      <th>4</th>\n",
              "      <td>Eduardo</td>\n",
              "      <td>Espinoza</td>\n",
              "      <td>NaN</td>\n",
              "      <td>CGTS Corp Inc</td>\n",
              "      <td>Desarrollador de software</td>\n",
              "      <td>08 Jan 2020</td>\n",
              "    </tr>\n",
              "  </tbody>\n",
              "</table>\n",
              "</div>"
            ],
            "text/plain": [
              "  First Name Last Name  ...                            Position Connected On\n",
              "0   Baudimar   Calvete  ...  Adminitracion de recursos humanos   14 Jan 2020\n",
              "1     Monica     Perez  ...                       Specialist II  13 Jan 2020\n",
              "2        Sam    Mbende  ...                          invistment  12 Jan 2020\n",
              "3  Jehosafat   Becerra  ...                   Escritor autónomo  09 Jan 2020\n",
              "4    Eduardo  Espinoza  ...           Desarrollador de software  08 Jan 2020\n",
              "\n",
              "[5 rows x 6 columns]"
            ]
          },
          "metadata": {
            "tags": []
          },
          "execution_count": 30
        }
      ]
    },
    {
      "cell_type": "code",
      "metadata": {
        "id": "waq35Ht6s2iJ",
        "colab_type": "code",
        "colab": {},
        "cellView": "form"
      },
      "source": [
        "#@title **Preprocessing step**\n",
        "from datetime import datetime as dtime\n",
        "connections['Connected On_parsed'] = connections.apply(lambda row: dtime.strptime(row['Connected On'],'%d %b %Y'), axis = 1)\n",
        "connections['MonthDate'] = connections['Connected On_parsed'].dt.strftime('%Y-%m')\n",
        "connections_filtered = connections[['Position','MonthDate']]\n",
        "connections_filtered = connections_filtered[connections_filtered['Position'].notnull()]\n",
        "## Filtering null positions and keeping only position and month/date ^\n",
        "connections_names = pd.DataFrame(columns=[\"Position_term\",\"MonthDate\"],\n",
        "                                 index=[0])\n",
        "for ix, row in connections_filtered.iterrows():\n",
        "    for wrd in prep.transform([row.Position])[0]:\n",
        "        if wrd == '':\n",
        "            continue\n",
        "        connections_names = connections_names.append(\n",
        "            {\n",
        "                \"Position_term\": wrd,\n",
        "                \"MonthDate\": row['MonthDate']\n",
        "            },\n",
        "            ignore_index=True\n",
        "        )\n",
        "\n",
        "connections_names = connections_names.dropna()\n",
        "group_dates = pd.DataFrame(connections_names.groupby(['MonthDate',\n",
        "                                                      'Position_term']).size())\n",
        "group_dates = group_dates.reset_index()\n",
        "group_dates.columns = ['MonthDate','Position_term','Freq']\n",
        "group_dates.sort_values(by=['MonthDate','Freq'],ascending=False)\n",
        "## Generating an entry for each term in the data for example 'full stack dev'\n",
        "## -> 'full' , 'stack', 'dev' (for the same month/date) ^\n",
        "del connections\n",
        "del connections_filtered\n",
        "del connections_names\n",
        "## Deleting temporal vars ^\n",
        "import numpy as np\n",
        "monthdates_arr = []\n",
        "for yearn in range(2013,2020):\n",
        "    for monthn in range(1,13):\n",
        "        if yearn == 2013 and monthn < 4:\n",
        "            continue\n",
        "        if monthn < 10:\n",
        "            monthdates_arr.append(str(yearn) + '-0' +str(monthn))\n",
        "        else:\n",
        "            monthdates_arr.append(str(yearn) + '-' +str(monthn))\n",
        "position_dates = []\n",
        "for ix, row in group_dates.iterrows():\n",
        "    position_dates.append(row.Position_term + row.MonthDate)\n",
        "position_dates = np.unique(position_dates)\n",
        "## Utility functions ^\n",
        "for term in np.unique(group_dates['Position_term'].tolist()):\n",
        "    for monthdate in monthdates_arr:\n",
        "        if  term + monthdate not in position_dates:\n",
        "            group_dates = group_dates.append({\"Position_term\":term,\n",
        "                                              \"MonthDate\":monthdate,\n",
        "                                              \"Freq\":0},ignore_index=True)\n",
        "group_dates.head()\n",
        "## Fulfilling values of monts that are not present ^\n",
        "group_dates_acum_filled_missing_months = group_dates.groupby(by=['Position_term','MonthDate']).sum().groupby(level=[0]).cumsum()\n",
        "group_dates_acum_filled_missing_months = group_dates_acum_filled_missing_months.reset_index()\n",
        "## Acumulating values for expressivenes of the rows ^\n",
        "#test_for_position_name = group_dates_acum_filled_missing_months[group_dates_acum_filled_missing_months['Position_term'] == 'developer']\n",
        "#test_for_position_name.head(30)\n",
        "## For testing that everything is ok"
      ],
      "execution_count": 0,
      "outputs": []
    },
    {
      "cell_type": "code",
      "metadata": {
        "id": "igJkMkhctJE2",
        "colab_type": "code",
        "colab": {
          "base_uri": "https://localhost:8080/",
          "height": 1000
        },
        "cellView": "form",
        "outputId": "6921faf8-cf45-496b-99cc-5d67fbf5d3fb"
      },
      "source": [
        "#@title **Generation of the plot**\n",
        "import pandas as pd\n",
        "import matplotlib as mpl\n",
        "import matplotlib.pyplot as plt\n",
        "import matplotlib.ticker as ticker \n",
        "import matplotlib.animation as animation\n",
        "from IPython.display import HTML\n",
        "import matplotlib.style as style\n",
        "style.available\n",
        "style.use('fivethirtyeight')\n",
        "\n",
        "value_of_output_file = 'output'  #@param {type: \"string\"} \n",
        "value_of_output_file = value_of_output_file + '.mp4'\n",
        "fps = 1  #@param {type: \"number\"}\n",
        "dpi = 200 #@param {type: \"number\"}\n",
        "\n",
        "fig, ax = plt.subplots(figsize=(15, 8))\n",
        "def draw_barchart(monthdate):\n",
        "    dff = group_dates_acum_filled_missing_months[group_dates_acum_filled_missing_months['MonthDate'].eq(monthdate)].sort_values(by='Freq', ascending=True).tail(10)\n",
        "    ax.clear()\n",
        "    ax.barh(dff['Position_term'], dff['Freq'], color=['#00BFFF'])\n",
        "    dx = dff['Freq'].max() / 200  \n",
        "    # zip function use iterable objects to format the axes \n",
        "    for i, (value, name) in enumerate(zip(dff['Freq'], dff['Position_term'])):\n",
        "        ax.text(value-dx, \n",
        "                i, \n",
        "                name, \n",
        "                size=14, \n",
        "                weight=600, \n",
        "                ha='right', \n",
        "                va='bottom')\n",
        "        ax.text(value+dx, \n",
        "                i, \n",
        "                f'{value:,.0f}', \n",
        "                size=14, \n",
        "                ha='left', \n",
        "                va='center')\n",
        "   \n",
        "    # polished styles\n",
        "    ax.text(1, 0.4, monthdate, transform=ax.transAxes, color='#777777', size=46, ha='right', weight=800)\n",
        "    ax.text(0, 1.06, 'Freq', transform=ax.transAxes, size=12, color='#777777')\n",
        "    ax.xaxis.set_major_formatter(ticker.StrMethodFormatter('{x:,.0f}'))\n",
        "    ax.xaxis.set_ticks_position('top')\n",
        "    ax.tick_params(axis='x', colors='#777777', labelsize=12)\n",
        "    ax.set_yticks([])\n",
        "    ax.margins(0, 0.02)\n",
        "    ax.grid(which='major', axis='x', linestyle='-')\n",
        "    ax.set_axisbelow(True)\n",
        "    ax.text(0, 1.15, \"My followers' positions terms from 2013 to 2020-01\",\n",
        "            transform=ax.transAxes, size=23, weight=500, ha='left')\n",
        "    ##add some notation\n",
        "    #ax.text(1, 0, 'Data sources: FivethirtyEight @ZoeZ', transform=ax.transAxes, ha='right',\n",
        "    #         color='#577777', bbox=dict(facecolor='white', alpha=0.8, edgecolor='white'))\n",
        "#plt.box(False)\n",
        "\n",
        "fig, ax = plt.subplots(figsize=(15, 8))\n",
        "animator = animation.FuncAnimation(fig, draw_barchart,frames=monthdates_arr)\n",
        "# .save as gif or mp4 fps is the speed and dpi is the resolution # previously -> fps=.5\n",
        "animator.save(value_of_output_file, fps=fps, dpi=dpi)"
      ],
      "execution_count": 32,
      "outputs": [
        {
          "output_type": "display_data",
          "data": {
            "image/png": "[encoded data removed]",
            "text/plain": [
              "<Figure size 1080x576 with 1 Axes>"
            ]
          },
          "metadata": {
            "tags": []
          }
        },
        {
          "output_type": "display_data",
          "data": {
            "image/png": "[encoded data removed]",
            "text/plain": [
              "<Figure size 1080x576 with 1 Axes>"
            ]
          },
          "metadata": {
            "tags": []
          }
        }
      ]
    }
  ]
}